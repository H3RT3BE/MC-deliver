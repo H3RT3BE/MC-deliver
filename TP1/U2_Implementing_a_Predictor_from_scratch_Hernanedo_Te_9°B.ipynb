{
  "nbformat": 4,
  "nbformat_minor": 0,
  "metadata": {
    "colab": {
      "provenance": [],
      "authorship_tag": "ABX9TyOdglcrafvcsWgscBqfXryS",
      "include_colab_link": true
    },
    "kernelspec": {
      "name": "python3",
      "display_name": "Python 3"
    },
    "language_info": {
      "name": "python"
    }
  },
  "cells": [
    {
      "cell_type": "markdown",
      "metadata": {
        "id": "view-in-github",
        "colab_type": "text"
      },
      "source": [
        "<a href=\"https://colab.research.google.com/github/H3RT3BE/MC-deliver/blob/main/TP1/U2_Implementing_a_Predictor_from_scratch_Hernanedo_Te_9%C2%B0B.ipynb\" target=\"_parent\"><img src=\"https://colab.research.google.com/assets/colab-badge.svg\" alt=\"Open In Colab\"/></a>"
      ]
    },
    {
      "cell_type": "code",
      "source": [
        "import pandas as pd\n",
        "\n",
        "# Carga tu conjunto de datos\n",
        "data = pd.read_csv('/content/Indicadores_municipales_sabana_DA.csv', encoding='ISO-8859-1')\n",
        " # Reemplaza 'tu_archivo.csv' con la ruta a tu archivo CSV\n",
        "\n",
        "# Detecta columnas vacías\n",
        "columnas_vacias = data.columns[data.isnull().any()]\n",
        "\n",
        "# Imprime las columnas con valores faltantes y la cantidad de valores faltantes en cada una\n",
        "for columna in columnas_vacias:\n",
        "    cantidad_faltante = data[columna].isnull().sum()\n",
        "    print(f\"Columna: {columna}, Cantidad de Valores Faltantes: {cantidad_faltante}\")\n",
        "\n",
        "# Si deseas obtener una visión general de los valores faltantes en todo el conjunto de datos, puedes usar:\n",
        "total_valores_faltantes = data.isnull().sum().sum()\n",
        "print(f\"Total de Valores Faltantes en el Conjunto de Datos: {total_valores_faltantes}\")\n"
      ],
      "metadata": {
        "colab": {
          "base_uri": "https://localhost:8080/"
        },
        "id": "2vAvzqla5-Hi",
        "outputId": "61663a03-977e-40e0-d091-e1bc842c4064"
      },
      "execution_count": 1,
      "outputs": [
        {
          "output_type": "stream",
          "name": "stdout",
          "text": [
            "Columna: cpic_cv, Cantidad de Valores Faltantes: 2\n",
            "Columna: pobtot_00, Cantidad de Valores Faltantes: 14\n",
            "Columna: pobtot_05, Cantidad de Valores Faltantes: 2\n",
            "Columna: porc_pob_15_analfa00, Cantidad de Valores Faltantes: 14\n",
            "Columna: porc_pob_15_analfa05, Cantidad de Valores Faltantes: 2\n",
            "Columna: porc_pob614_noasiste00, Cantidad de Valores Faltantes: 14\n",
            "Columna: porc_pob614_noasiste05, Cantidad de Valores Faltantes: 2\n",
            "Columna: porc_pob15_basicainc00, Cantidad de Valores Faltantes: 14\n",
            "Columna: porc_pob15_basicainc05, Cantidad de Valores Faltantes: 2\n",
            "Columna: porc_pob_snservsal00, Cantidad de Valores Faltantes: 14\n",
            "Columna: porc_pob_snservsal05, Cantidad de Valores Faltantes: 2\n",
            "Columna: porc_vivpisotierra00, Cantidad de Valores Faltantes: 14\n",
            "Columna: porc_vivpisotierra05, Cantidad de Valores Faltantes: 2\n",
            "Columna: porc_vivsnsan00, Cantidad de Valores Faltantes: 14\n",
            "Columna: porc_vivsnsan05, Cantidad de Valores Faltantes: 2\n",
            "Columna: porc_snaguaent00, Cantidad de Valores Faltantes: 14\n",
            "Columna: porc_snaguaent05, Cantidad de Valores Faltantes: 2\n",
            "Columna: porc_vivsndren00, Cantidad de Valores Faltantes: 14\n",
            "Columna: porc_vivsndren05, Cantidad de Valores Faltantes: 2\n",
            "Columna: porc_vivsnenergia00, Cantidad de Valores Faltantes: 14\n",
            "Columna: porc_vivsnenergia05, Cantidad de Valores Faltantes: 2\n",
            "Columna: porc_vivsnlavadora00, Cantidad de Valores Faltantes: 14\n",
            "Columna: porc_vivsnlavadora05, Cantidad de Valores Faltantes: 2\n",
            "Columna: porc_vivsnrefri00, Cantidad de Valores Faltantes: 14\n",
            "Columna: porc_vivsnrefri05, Cantidad de Valores Faltantes: 2\n",
            "Columna: irez_soc00, Cantidad de Valores Faltantes: 14\n",
            "Columna: irez_soc05, Cantidad de Valores Faltantes: 2\n",
            "Columna: gdo_rezsoc00, Cantidad de Valores Faltantes: 14\n",
            "Columna: gdo_rezsoc05, Cantidad de Valores Faltantes: 2\n",
            "Columna: l_ocupnac00, Cantidad de Valores Faltantes: 14\n",
            "Columna: l_ocupnac05, Cantidad de Valores Faltantes: 2\n",
            "Columna: p_rez_edu_90, Cantidad de Valores Faltantes: 2\n",
            "Columna: p_rez_edu_00, Cantidad de Valores Faltantes: 3\n",
            "Columna: p_ser_sal_00, Cantidad de Valores Faltantes: 3\n",
            "Columna: p_viv_pisos_90, Cantidad de Valores Faltantes: 2\n",
            "Columna: p_viv_pisos_00, Cantidad de Valores Faltantes: 3\n",
            "Columna: p_viv_muros_90, Cantidad de Valores Faltantes: 2\n",
            "Columna: p_viv_muros_00, Cantidad de Valores Faltantes: 3\n",
            "Columna: p_viv_techos_90, Cantidad de Valores Faltantes: 2\n",
            "Columna: p_viv_techos_00, Cantidad de Valores Faltantes: 3\n",
            "Columna: p_viv_hacin_90, Cantidad de Valores Faltantes: 2\n",
            "Columna: p_viv_hacin_00, Cantidad de Valores Faltantes: 3\n",
            "Columna: p_viv_agu_entub_90, Cantidad de Valores Faltantes: 2\n",
            "Columna: p_viv_agu_entub_00, Cantidad de Valores Faltantes: 3\n",
            "Columna: p_viv_dren_90, Cantidad de Valores Faltantes: 2\n",
            "Columna: p_viv_dren_00, Cantidad de Valores Faltantes: 3\n",
            "Columna: p_viv_elect_90, Cantidad de Valores Faltantes: 2\n",
            "Columna: p_viv_elect_00, Cantidad de Valores Faltantes: 3\n",
            "Columna: pobreza_alim_90, Cantidad de Valores Faltantes: 2\n",
            "Columna: pobreza_alim_00, Cantidad de Valores Faltantes: 3\n",
            "Columna: pobreza_cap_90, Cantidad de Valores Faltantes: 2\n",
            "Columna: pobreza_cap_00, Cantidad de Valores Faltantes: 3\n",
            "Columna: pobreza_patrim_90, Cantidad de Valores Faltantes: 2\n",
            "Columna: pobreza_patrim_00, Cantidad de Valores Faltantes: 3\n",
            "Columna: gini_90, Cantidad de Valores Faltantes: 2\n",
            "Columna: gini_00, Cantidad de Valores Faltantes: 3\n",
            "Total de Valores Faltantes en el Conjunto de Datos: 305\n"
          ]
        }
      ]
    },
    {
      "cell_type": "code",
      "source": [
        "import pandas as pd\n",
        "\n",
        "# Carga tu conjunto de datos\n",
        "data = pd.read_csv('/content/Indicadores_municipales_sabana_DA.csv', encoding='ISO-8859-1')\n",
        "\n",
        "# Itera a través de las columnas numéricas\n",
        "for columna in data.select_dtypes(include=['number']):\n",
        "    promedio = data[columna].mean()  # Calcula el promedio de la columna\n",
        "    data[columna].fillna(promedio, inplace=True)  # Llena los valores nulos con el promedio\n",
        "\n",
        "\n",
        "data.to_csv('/content/Indicadores_municipales_sabana_DA.csv', index=False)\n",
        "\n",
        "\n"
      ],
      "metadata": {
        "id": "EV6WT0EWBwKz"
      },
      "execution_count": 2,
      "outputs": []
    },
    {
      "cell_type": "code",
      "source": [
        "# Verifica si hay columnas numéricas con valores nulos\n",
        "columnas_con_valores_nulos = data.select_dtypes(include=['number']).columns[data.select_dtypes(include=['number']).isnull().any()]\n",
        "print(\"Columnas numéricas con valores nulos:\")\n",
        "print(columnas_con_valores_nulos)\n"
      ],
      "metadata": {
        "colab": {
          "base_uri": "https://localhost:8080/"
        },
        "id": "tIfSJ-T-CHzX",
        "outputId": "078e03c5-24db-49de-954a-ada5f73a6a3c"
      },
      "execution_count": 3,
      "outputs": [
        {
          "output_type": "stream",
          "name": "stdout",
          "text": [
            "Columnas numéricas con valores nulos:\n",
            "Index([], dtype='object')\n"
          ]
        }
      ]
    },
    {
      "cell_type": "code",
      "source": [
        "import pandas as pd\n",
        "from sklearn.preprocessing import LabelEncoder\n",
        "\n",
        "# Carga tu conjunto de datos\n",
        "data = pd.read_csv('/content/Indicadores_municipales_sabana_DA.csv', encoding='ISO-8859-1')\n",
        "\n",
        "# Paso 1: Identifica las columnas con valores de tipo texto\n",
        "columnas_texto = data.select_dtypes(include=['object']).columns\n",
        "\n",
        "# Paso 2: Convierte las columnas de texto en valores numéricos\n",
        "label_encoder = LabelEncoder()\n",
        "\n",
        "for columna in columnas_texto:\n",
        "    data[columna] = label_encoder.fit_transform(data[columna])\n",
        "\n",
        "# Ahora, las columnas con valores de tipo texto se han convertido a valores numéricos.\n",
        "\n",
        "# Puedes guardar el DataFrame modificado en un nuevo archivo CSV si es necesario\n",
        "data.to_csv('/content/Indicadores_municipales_sabana_DA.csv', index=False)"
      ],
      "metadata": {
        "id": "tXayWInXuSff"
      },
      "execution_count": 4,
      "outputs": []
    },
    {
      "cell_type": "code",
      "source": [
        "# Verifica si hay valores nulos en las columnas que antes eran texto (ahora numéricas)\n",
        "valores_nulos_texto_convertido = data[columnas_texto].isnull().sum()\n",
        "\n",
        "# Imprime la cantidad de valores nulos en esas columnas\n",
        "print(\"Cantidad de valores nulos en columnas que antes eran texto:\")\n",
        "print(valores_nulos_texto_convertido)\n"
      ],
      "metadata": {
        "colab": {
          "base_uri": "https://localhost:8080/"
        },
        "id": "6KNFVZJ3C_4Q",
        "outputId": "a7d3d142-ced8-46a1-e997-fd62dda752ae"
      },
      "execution_count": 5,
      "outputs": [
        {
          "output_type": "stream",
          "name": "stdout",
          "text": [
            "Cantidad de valores nulos en columnas que antes eran texto:\n",
            "nom_ent         0\n",
            "nom_mun         0\n",
            "gdo_rezsoc00    0\n",
            "gdo_rezsoc05    0\n",
            "gdo_rezsoc10    0\n",
            "dtype: int64\n"
          ]
        }
      ]
    },
    {
      "cell_type": "code",
      "source": [
        "\n",
        "\n",
        "data = pd.read_csv('/content/Indicadores_municipales_sabana_DA.csv', encoding='ISO-8859-1')\n",
        "\n",
        "# Convertir valores vacíos en las columnas 'gdo_rezsoc00' y 'gdo_rezsoc05' en NaN\n",
        "data['gdo_rezsoc00'] = pd.to_numeric(data['gdo_rezsoc00'], errors='coerce')\n",
        "data['gdo_rezsoc05'] = pd.to_numeric(data['gdo_rezsoc05'], errors='coerce')\n",
        "\n",
        "# Calcular el promedio de las columnas 'gdo_rezsoc00' y 'gdo_rezsoc05'\n",
        "promedio_gdo_rezsoc00 = data['gdo_rezsoc00'].mean()\n",
        "promedio_gdo_rezsoc05 = data['gdo_rezsoc05'].mean()\n",
        "\n",
        "# Llenar los valores NaN en las columnas con los promedios respectivos\n",
        "data['gdo_rezsoc00'].fillna(promedio_gdo_rezsoc00, inplace=True)\n",
        "data['gdo_rezsoc05'].fillna(promedio_gdo_rezsoc05, inplace=True)\n",
        "\n",
        "# Guardar los datos procesados en el mismo archivo CSV\n",
        "data.to_csv('/content/Indicadores_municipales_sabana_DA.csv', index=False)\n"
      ],
      "metadata": {
        "id": "J9pgJhVIINcg"
      },
      "execution_count": 6,
      "outputs": []
    },
    {
      "cell_type": "code",
      "source": [
        "import pandas as pd\n",
        "\n",
        "# Carga tu conjunto de datos en un DataFrame\n",
        "data = pd.read_csv('/content/Indicadores_municipales_sabana_DA.csv',encoding='ISO-8859-1' )\n",
        "\n",
        "# Paso 1: Calcular la matriz de correlación\n",
        "correlacion = data.corr()\n",
        "\n",
        "# Paso 2: Seleccionar las columnas con mayor correlación con 'p_viv_elect_10'\n",
        "columnas_con_mayor_correlacion = correlacion['p_viv_elect_10'].abs().sort_values(ascending=False)\n",
        "\n",
        "# Paso 3: Filtrar las columnas con correlación de 0.4 o mayor\n",
        "columnas_seleccionadas = columnas_con_mayor_correlacion[columnas_con_mayor_correlacion >= 0.5]\n",
        "\n",
        "# Paso 4: Obtener los datos ordenados basados en las columnas seleccionadas\n",
        "datos_ordenados = data[columnas_seleccionadas.index]\n",
        "\n",
        "# Paso 5: Imprimir los primeros diez datos\n",
        "primeros_diez_datos = datos_ordenados.head(10)\n",
        "print(primeros_diez_datos)\n",
        "\n"
      ],
      "metadata": {
        "id": "3lPKznoDuVza",
        "colab": {
          "base_uri": "https://localhost:8080/"
        },
        "outputId": "5db783f1-29ef-4726-afa0-c65d5d200e57"
      },
      "execution_count": 7,
      "outputs": [
        {
          "output_type": "stream",
          "name": "stdout",
          "text": [
            "   p_viv_elect_10  porc_vivsnenergia10  porc_vivsnenergia05  p_viv_elect_00  \\\n",
            "0         0.35756              0.33222             2.806767             1.1   \n",
            "1         4.32090              2.52823             3.996699             5.4   \n",
            "2         1.26973              1.08306             1.864739             2.3   \n",
            "3         1.70491              2.10678             2.067540             2.3   \n",
            "4         2.39693              1.18828             3.418514             2.7   \n",
            "5         0.39175              1.04344             2.096813             1.7   \n",
            "6         0.59333              0.98393             2.846900             3.2   \n",
            "7         2.02817              2.01699             4.392922             5.6   \n",
            "8         0.70167              1.66442             2.986726             3.4   \n",
            "9         4.37632              3.56283             5.011261             7.8   \n",
            "\n",
            "   porc_vivsnenergia00  p_viv_elect_90  irez_soc10  irez_soc05  \n",
            "0              1.32557             3.3   -1.558484   -1.636908  \n",
            "1              6.27478            13.7   -1.014475   -0.956417  \n",
            "2              2.83654             7.2   -1.101936   -1.122184  \n",
            "3              2.90745             6.5   -1.133137   -1.078457  \n",
            "4              3.28322             7.9   -1.296495   -1.210941  \n",
            "5              2.62921             5.0   -1.343856   -1.321357  \n",
            "6              3.70041             7.6   -1.255189   -1.197187  \n",
            "7              6.07315            12.2   -1.097275   -1.005023  \n",
            "8              4.18782             6.6   -1.037171   -1.045346  \n",
            "9              8.28877            15.6   -0.885364   -0.886841  \n"
          ]
        }
      ]
    },
    {
      "cell_type": "code",
      "source": [
        "from sklearn.model_selection import train_test_split\n",
        "\n",
        "# Divide los datos en características (X) y la variable objetivo (Y)\n",
        "X = datos_ordenados.drop(columns=['p_viv_elect_10'])  # Características\n",
        "Y = datos_ordenados['p_viv_elect_10']  # Variable objetivo\n",
        "\n",
        "# Divide los datos en conjuntos de entrenamiento y prueba\n",
        "X_train, X_test, Y_train, Y_test = train_test_split(X, Y, test_size=0.2, random_state=50)\n",
        "\n",
        "# X_train: Características para entrenamiento\n",
        "# Y_train: Variable objetivo para entrenamiento\n",
        "# X_test: Características para prueba\n",
        "# Y_test: Variable objetivo para prueba\n",
        "\n"
      ],
      "metadata": {
        "id": "C44jK_WMAasm"
      },
      "execution_count": 8,
      "outputs": []
    },
    {
      "cell_type": "code",
      "source": [
        "\n",
        "from sklearn.linear_model import LinearRegression\n",
        "from sklearn.metrics import mean_squared_error, r2_score\n",
        "import matplotlib.pyplot as pl\n",
        "\n",
        "# Crear un modelo de regresión lineal\n",
        "modelo = LinearRegression()\n",
        "\n",
        "# Entrenar el modelo en el conjunto de entrenamiento\n",
        "modelo.fit(X_train, Y_train)\n",
        "\n",
        "# Realizar predicciones en el conjunto de prueba\n",
        "predicciones = modelo.predict(X_test)\n",
        "\n",
        "# Evaluar el rendimiento del modelo en el conjunto de prueba\n",
        "error_cuadratico_medio = mean_squared_error(Y_test, predicciones)\n",
        "coeficiente_de_determinacion = r2_score(Y_test, predicciones)\n",
        "\n",
        "# Imprimir las métricas de rendimiento\n",
        "print(\"Error Cuadrático Medio (MSE):\", error_cuadratico_medio)\n",
        "print(\"Coeficiente de Determinación (R-squared):\", coeficiente_de_determinacion)\n",
        "\n",
        "# Dibujar la línea de 45 grados (línea de predicciones perfectas)\n",
        "plt.plot([min(Y_test), max(Y_test)], [min(Y_test), max(Y_test)], linestyle='--', color='red', label='Predicciones perfectas')\n",
        "\n",
        "\n",
        "# Puedes también visualizar las predicciones vs. valores reales, por ejemplo, un gráfico de dispersión\n",
        "\n",
        "# Gráfico de dispersión de predicciones vs. valores reales\n",
        "\n",
        "plt.scatter(Y_test, predicciones)\n",
        "plt.xlabel(\"Valores reales\")\n",
        "plt.ylabel(\"Predicciones\")\n",
        "plt.title(\"Predicciones vs. Valores reales\")\n",
        "plt.show()\n",
        "\n"
      ],
      "metadata": {
        "colab": {
          "base_uri": "https://localhost:8080/",
          "height": 507
        },
        "id": "oVSSWYWhElhe",
        "outputId": "e8a0756b-f02e-4eef-ed29-96f5f996b251"
      },
      "execution_count": 24,
      "outputs": [
        {
          "output_type": "stream",
          "name": "stdout",
          "text": [
            "Error Cuadrático Medio (MSE): 2.944372319500498\n",
            "Coeficiente de Determinación (R-squared): 0.9281920409668123\n"
          ]
        },
        {
          "output_type": "display_data",
          "data": {
            "text/plain": [
              "<Figure size 640x480 with 1 Axes>"
            ],
            "image/png": "[encoded data removed]"
          },
          "metadata": {}
        }
      ]
    },
    {
      "cell_type": "code",
      "source": [
        "# Imprimir los primeros 50 valores reales y sus predicciones como porcentajes\n",
        "for i in range(50):\n",
        "    valor_real_porcentaje = Y_test.iloc[i]   # Acceder a los datos con .iloc\n",
        "    prediccion_porcentaje = predicciones[i]   # Convertir a porcentaje\n",
        "    print(\"Valores Real: {:.2f}% - Predicción: {:.2f}%\".format(valor_real_porcentaje, prediccion_porcentaje))\n"
      ],
      "metadata": {
        "colab": {
          "base_uri": "https://localhost:8080/"
        },
        "id": "ZYXIHUoGgrR9",
        "outputId": "4d76ff1b-8bd7-4f05-abd9-8fb200d8e3d2"
      },
      "execution_count": 29,
      "outputs": [
        {
          "output_type": "stream",
          "name": "stdout",
          "text": [
            "Valores Real: 3.43% - Predicción: 4.66%\n",
            "Valores Real: 4.28% - Predicción: 3.82%\n",
            "Valores Real: 0.59% - Predicción: 0.94%\n",
            "Valores Real: 0.61% - Predicción: 0.66%\n",
            "Valores Real: 0.51% - Predicción: 1.19%\n",
            "Valores Real: 8.59% - Predicción: 13.40%\n",
            "Valores Real: 4.52% - Predicción: 4.68%\n",
            "Valores Real: 0.83% - Predicción: 1.41%\n",
            "Valores Real: 62.14% - Predicción: 57.90%\n",
            "Valores Real: 9.65% - Predicción: 5.81%\n",
            "Valores Real: 0.73% - Predicción: 2.36%\n",
            "Valores Real: 1.60% - Predicción: 2.75%\n",
            "Valores Real: 2.53% - Predicción: 2.07%\n",
            "Valores Real: 6.07% - Predicción: 3.30%\n",
            "Valores Real: 4.69% - Predicción: 4.75%\n",
            "Valores Real: 1.66% - Predicción: 1.54%\n",
            "Valores Real: 0.86% - Predicción: 0.78%\n",
            "Valores Real: 1.70% - Predicción: 2.21%\n",
            "Valores Real: 5.63% - Predicción: 6.11%\n",
            "Valores Real: 1.70% - Predicción: 1.30%\n",
            "Valores Real: 21.08% - Predicción: 15.32%\n",
            "Valores Real: 0.55% - Predicción: 1.44%\n",
            "Valores Real: 5.32% - Predicción: 6.81%\n",
            "Valores Real: 3.45% - Predicción: 3.37%\n",
            "Valores Real: 1.35% - Predicción: 1.69%\n",
            "Valores Real: 1.77% - Predicción: 3.40%\n",
            "Valores Real: 1.65% - Predicción: 1.80%\n",
            "Valores Real: 2.77% - Predicción: 2.45%\n",
            "Valores Real: 0.89% - Predicción: 1.69%\n",
            "Valores Real: 2.52% - Predicción: 3.39%\n",
            "Valores Real: 8.61% - Predicción: 7.28%\n",
            "Valores Real: 45.03% - Predicción: 41.17%\n",
            "Valores Real: 4.53% - Predicción: 3.31%\n",
            "Valores Real: 5.61% - Predicción: 3.66%\n",
            "Valores Real: 5.04% - Predicción: 5.07%\n",
            "Valores Real: 2.05% - Predicción: 5.65%\n",
            "Valores Real: 13.56% - Predicción: 15.45%\n",
            "Valores Real: 2.28% - Predicción: 1.82%\n",
            "Valores Real: 9.11% - Predicción: 11.11%\n",
            "Valores Real: 2.30% - Predicción: 4.05%\n",
            "Valores Real: 0.07% - Predicción: 0.38%\n",
            "Valores Real: 0.65% - Predicción: 0.30%\n",
            "Valores Real: 4.56% - Predicción: 4.67%\n",
            "Valores Real: 20.64% - Predicción: 20.79%\n",
            "Valores Real: 1.26% - Predicción: 0.89%\n",
            "Valores Real: 2.81% - Predicción: 2.84%\n",
            "Valores Real: 16.41% - Predicción: 21.83%\n",
            "Valores Real: 2.10% - Predicción: 1.87%\n",
            "Valores Real: 2.26% - Predicción: 1.55%\n",
            "Valores Real: 2.37% - Predicción: 2.81%\n"
          ]
        }
      ]
    },
    {
      "cell_type": "code",
      "source": [
        "from sklearn.ensemble import RandomForestRegressor\n",
        "from sklearn.metrics import mean_squared_error, r2_score\n",
        "import matplotlib.pyplot as plt\n",
        "\n",
        "# Crear un modelo de Random Forest Regressor\n",
        "modelo_rf = RandomForestRegressor(n_estimators=100, random_state=42)\n",
        "\n",
        "# Entrenar el modelo en el conjunto de entrenamiento\n",
        "modelo_rf.fit(X_train, Y_train)\n",
        "\n",
        "# Realizar predicciones en el conjunto de prueba\n",
        "predicciones_rf = modelo_rf.predict(X_test)\n",
        "\n",
        "# Imprimir las primeras 50 predicciones y valores reales\n",
        "print(\"Primeras 50 Predicciones con Random Forest:\", predicciones_rf[:50])\n",
        "print(\"Primeros 50 Valores reales:\", Y_test[:50])\n",
        "\n",
        "# Evaluar el rendimiento del modelo Random Forest en el conjunto de prueba\n",
        "error_cuadratico_medio_rf = mean_squared_error(Y_test, predicciones_rf)\n",
        "coeficiente_de_determinacion_rf = r2_score(Y_test, predicciones_rf)\n",
        "\n",
        "# Imprimir las métricas de rendimiento para Random Forest\n",
        "print(\"Error Cuadrático Medio (MSE) con Random Forest:\", error_cuadratico_medio_rf)\n",
        "print(\"Coeficiente de Determinación (R-squared) con Random Forest:\", coeficiente_de_determinacion_rf)\n",
        "\n",
        "# Gráfico de dispersión de predicciones vs. valores reales para Random Forest\n",
        "plt.scatter(Y_test, predicciones_rf, label='Predicciones vs. Valores reales (Random Forest)')\n",
        "plt.xlabel(\"Valores reales\")\n",
        "plt.ylabel(\"Predicciones (Random Forest)\")\n",
        "plt.title(\"Predicciones vs. Valores reales (Random Forest)\")\n",
        "\n",
        "# Dibujar la línea de 45 grados (línea de predicciones perfectas)\n",
        "plt.plot([min(Y_test), max(Y_test)], [min(Y_test), max(Y_test)], linestyle='--', color='red',\n",
        "         label='Predicciones perfectas')\n",
        "\n",
        "# Mostrar leyenda\n",
        "plt.legend()\n",
        "\n",
        "plt.show()\n"
      ],
      "metadata": {
        "colab": {
          "base_uri": "https://localhost:8080/",
          "height": 1000
        },
        "id": "5InMF2VoEjDP",
        "outputId": "bc53381c-d9b4-44b5-c7ca-fddae6b65a04"
      },
      "execution_count": 30,
      "outputs": [
        {
          "output_type": "stream",
          "name": "stdout",
          "text": [
            "Primeras 50 Predicciones con Random Forest: [ 4.37892697  3.40355461  0.8815073   1.15066321  1.441708   12.12404108\n",
            "  5.49631376  1.46214948 60.29450748  6.52147339  2.4541895   2.83183411\n",
            "  3.18699228  3.2165021   4.64593836  1.5048361   0.88256479  2.25770301\n",
            "  6.54229205  1.6548563  12.96875305  1.3298404   6.61865152  3.19849197\n",
            "  1.3862399   2.56338559  1.61334049  2.71167262  1.6613483   3.41500163\n",
            "  7.90461458 41.10273934  2.946424    3.234035    4.55905933  5.45033269\n",
            " 13.06873098  1.6433343  11.67180124  4.18131798  0.2210609   0.3019704\n",
            "  4.56433736 25.59661822  0.907031    3.5932405  22.91855518  1.4002635\n",
            "  1.24354779  3.08871169]\n",
            "Primeros 50 Valores reales: 2257     3.426040\n",
            "1070     4.276290\n",
            "786      0.588010\n",
            "1493     0.610040\n",
            "1696     0.510990\n",
            "1610     8.591970\n",
            "1863     4.516440\n",
            "2314     0.832760\n",
            "935     62.140110\n",
            "1995     9.654700\n",
            "2448     0.731140\n",
            "1914     1.600790\n",
            "175      2.525130\n",
            "166      6.067050\n",
            "2155     4.691900\n",
            "1807     1.660240\n",
            "725      0.861050\n",
            "3        1.704910\n",
            "2214     5.625680\n",
            "1084     1.695760\n",
            "517     21.083981\n",
            "2045     0.548350\n",
            "1192     5.323510\n",
            "2382     3.446580\n",
            "252      1.352450\n",
            "1555     1.765860\n",
            "1490     1.654410\n",
            "1502     2.769110\n",
            "153      0.893490\n",
            "1650     2.523650\n",
            "1853     8.611150\n",
            "282     45.031601\n",
            "75       4.528620\n",
            "1885     5.613680\n",
            "1757     5.035970\n",
            "1982     2.052040\n",
            "1514    13.558580\n",
            "67       2.281150\n",
            "1783     9.108380\n",
            "1512     2.298660\n",
            "2420     0.068060\n",
            "275      0.651840\n",
            "254      4.563760\n",
            "1289    20.639530\n",
            "2408     1.261510\n",
            "1256     2.811580\n",
            "499     16.414459\n",
            "309      2.100240\n",
            "1292     2.258130\n",
            "1816     2.372800\n",
            "Name: p_viv_elect_10, dtype: float64\n",
            "Error Cuadrático Medio (MSE) con Random Forest: 3.8794367006037853\n",
            "Coeficiente de Determinación (R-squared) con Random Forest: 0.9053874981014423\n"
          ]
        },
        {
          "output_type": "display_data",
          "data": {
            "text/plain": [
              "<Figure size 640x480 with 1 Axes>"
            ],
            "image/png": "[encoded data removed]"
          },
          "metadata": {}
        }
      ]
    }
  ]
}